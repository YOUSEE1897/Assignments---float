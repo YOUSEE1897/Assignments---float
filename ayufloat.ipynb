{
 "cells": [
  {
   "cell_type": "code",
   "execution_count": 1,
   "id": "cfa7fbc3",
   "metadata": {},
   "outputs": [
    {
     "name": "stdout",
     "output_type": "stream",
     "text": [
      "10.2\n",
      "<class 'float'>\n",
      "2803771950448\n"
     ]
    }
   ],
   "source": [
    "num_f = 10.20\n",
    "\n",
    "\n",
    "print(num_f) #printing float input value\n",
    "print(type(num_f)) #printing type of input value\n",
    "print(id(num_f))   #printing id of input value"
   ]
  },
  {
   "cell_type": "code",
   "execution_count": null,
   "id": "de255800",
   "metadata": {},
   "outputs": [],
   "source": []
  },
  {
   "cell_type": "code",
   "execution_count": 2,
   "id": "ffb45a7f",
   "metadata": {},
   "outputs": [
    {
     "name": "stdout",
     "output_type": "stream",
     "text": [
      "19.9\n",
      "9.5\n",
      "76.44\n",
      "2.0\n",
      "4.299999999999999\n",
      "2.8269230769230766\n",
      "33515766140.816345\n"
     ]
    }
   ],
   "source": [
    "#Arithmtic Operations on float\n",
    "\n",
    "\n",
    "nf1 =14.70\n",
    "nf2 =5.20\n",
    "\n",
    "print(nf1+nf2)   #sum of both numbers\n",
    "\n",
    "print(nf1-nf2)   #differce between numbers\n",
    "\n",
    "print(nf1*nf2)   #product of numbers\n",
    "\n",
    "print(nf1//nf2)  #value after dividing first num with second num\n",
    "\n",
    "print(nf1%nf2)  #remainder after dividing first num with second num\n",
    "\n",
    "print(nf1/nf2)  #quotient after dividing first num with second num\n",
    "\n",
    "print(nf2**nf1)  #result of first num to the power of second num"
   ]
  },
  {
   "cell_type": "code",
   "execution_count": null,
   "id": "c27783f3",
   "metadata": {},
   "outputs": [],
   "source": []
  },
  {
   "cell_type": "code",
   "execution_count": 3,
   "id": "9f9efe48",
   "metadata": {},
   "outputs": [
    {
     "name": "stdout",
     "output_type": "stream",
     "text": [
      "True\n",
      "False\n",
      "True\n",
      "False\n"
     ]
    }
   ],
   "source": [
    "#Comparison Operators\n",
    "\n",
    "nuf1 =7.70\n",
    "nuf2 =7.60\n",
    "\n",
    "\n",
    "\n",
    "print(nuf1>nuf2)  #print true if nuf1>nuf2\n",
    "\n",
    "print(nuf1<nuf2) #print true if nuf1<nuf2,else false\n",
    "\n",
    "print(nuf1>=nuf2) #print true if nuf1>=nuf2\n",
    "\n",
    "print(nuf1<=nuf2) #print true if nuf1<=nuf2\n"
   ]
  },
  {
   "cell_type": "code",
   "execution_count": null,
   "id": "e52f318e",
   "metadata": {},
   "outputs": [],
   "source": []
  },
  {
   "cell_type": "code",
   "execution_count": 4,
   "id": "75fe9184",
   "metadata": {},
   "outputs": [
    {
     "name": "stdout",
     "output_type": "stream",
     "text": [
      "True\n",
      "False\n"
     ]
    }
   ],
   "source": [
    "#Equality Operator\n",
    " \n",
    "n1 =2.25\n",
    "n2 =2.25\n",
    "\n",
    "print(n1==n2) #print true if equal \n",
    "\n",
    "print(n1!=n2) #print false if not equal"
   ]
  },
  {
   "cell_type": "code",
   "execution_count": null,
   "id": "3b5f9203",
   "metadata": {},
   "outputs": [],
   "source": []
  },
  {
   "cell_type": "code",
   "execution_count": 5,
   "id": "01c1b2bd",
   "metadata": {},
   "outputs": [
    {
     "name": "stdout",
     "output_type": "stream",
     "text": [
      "20.3\n",
      "0.0\n",
      "0.0\n",
      "0.0\n",
      "10.2\n",
      "20.3\n",
      "20.3\n",
      "0.0\n",
      "False\n",
      "True\n"
     ]
    }
   ],
   "source": [
    "#Logical operators\n",
    "\n",
    "\n",
    "print(10.20 and 20.30)  #both are true,so second value taken \n",
    "print(0.0 and 20.30)    #First is false so first value taken\n",
    "print(20.30 and 0.0)    #Goes till second and second value is false so second is taken\n",
    "print(0.0 and 0.0)      #First is false so,it is taken\n",
    "\n",
    "\n",
    "print(10.20 or 20.30)   #First is True so it is taken\n",
    "print(0.0 or 20.30)     #Goes to till second and second is true,so it is taken\n",
    "print(20.30 or 0.0)     #First is True so it is taken\n",
    "print(0.0 or 0.0)       #Goes till second value,which is false,so it is taken\n",
    "\n",
    "\n",
    "print(not 10.20)  #Not of true is false\n",
    "print(not 0.0)    #Not of false is True"
   ]
  },
  {
   "cell_type": "code",
   "execution_count": null,
   "id": "69c926dd",
   "metadata": {},
   "outputs": [],
   "source": []
  },
  {
   "cell_type": "code",
   "execution_count": null,
   "id": "be8a1955",
   "metadata": {},
   "outputs": [],
   "source": []
  },
  {
   "cell_type": "code",
   "execution_count": null,
   "id": "cde91997",
   "metadata": {},
   "outputs": [],
   "source": []
  },
  {
   "cell_type": "code",
   "execution_count": null,
   "id": "81f34b4a",
   "metadata": {},
   "outputs": [],
   "source": []
  },
  {
   "cell_type": "code",
   "execution_count": 6,
   "id": "41621b4e",
   "metadata": {},
   "outputs": [
    {
     "name": "stdout",
     "output_type": "stream",
     "text": [
      "True\n",
      "True\n",
      "True\n",
      "True\n",
      "True\n",
      "True\n"
     ]
    }
   ],
   "source": [
    "#Membership operation\n",
    "\n",
    "\n",
    "print('2.7' in 'Python2.7.8') # prints True\n",
    "\n",
    "print(10.20 in [10,10.20,10+20j,'Python']) # printsTrue\n",
    "\n",
    "print(10.20 in (10,10.20,10+20j,'Python')) #prints True\n",
    "\n",
    "print(20.30 in {1,20.30,30+40j})  #prints True\n",
    "\n",
    "print(2.3 in {1:100, 2.3:200, 30+40j:300}) #prints True\n",
    "\n",
    "print(10 in range(20))   #prints True"
   ]
  }
 ],
 "metadata": {
  "kernelspec": {
   "display_name": "Python 3",
   "language": "python",
   "name": "python3"
  },
  "language_info": {
   "codemirror_mode": {
    "name": "ipython",
    "version": 3
   },
   "file_extension": ".py",
   "mimetype": "text/x-python",
   "name": "python",
   "nbconvert_exporter": "python",
   "pygments_lexer": "ipython3",
   "version": "3.8.8"
  }
 },
 "nbformat": 4,
 "nbformat_minor": 5
}
