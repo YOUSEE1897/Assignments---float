{
 "cells": [
  {
   "cell_type": "code",
   "execution_count": 1,
   "id": "22bf4707",
   "metadata": {},
   "outputs": [
    {
     "name": "stdout",
     "output_type": "stream",
     "text": [
      "35.567\n",
      "<class 'float'>\n",
      "2500117538896\n"
     ]
    }
   ],
   "source": [
    "#Declare a float value and store it in a variable. \n",
    "num_1 = 35.567\n",
    "\n",
    "\n",
    "\n",
    "\n",
    "#Check the type and print the id of the same.\n",
    "print(num_1)\n",
    "print(type(num_1))\n",
    "print(id(num_1))"
   ]
  },
  {
   "cell_type": "code",
   "execution_count": 2,
   "id": "c81cc21a",
   "metadata": {},
   "outputs": [
    {
     "name": "stdout",
     "output_type": "stream",
     "text": [
      "2.8\n",
      "-0.19999999999999996\n",
      "1.9500000000000002\n",
      "0.8666666666666667\n",
      "1.3\n",
      "0.0\n",
      "1.4822280526288794\n"
     ]
    }
   ],
   "source": [
    "#Arithmatic Operations on float\n",
    "#Take two different float values.\n",
    "#Store them in two different variables.\n",
    "\n",
    "#Do below operations on them:-\n",
    "    #Find sum of both numbers\n",
    "\n",
    "    #Find differce between them\n",
    "    #Find the product of both numbers.\n",
    "\n",
    "    #Find value after dividing first num with second number\n",
    "\n",
    "    #Find the remainder after dividing first number with second number\n",
    "\n",
    "    #Find the quotient after dividing first number with second number\n",
    "\n",
    "    #Find the result of first num to the power of second number\n",
    "    \n",
    "num5=1.3\n",
    "num6=1.5\n",
    "\n",
    "print(num5+num6)   #sum\n",
    "print(num5-num6)   #difference\n",
    "print(num5*num6)   #product\n",
    "print(num5/num6)   #divide\n",
    "print(num5%num6)   #remainder\n",
    "print(num5//num6)   #quotient\n",
    "print(num5**num6)   #power"
   ]
  },
  {
   "cell_type": "code",
   "execution_count": 3,
   "id": "dcf9ddcd",
   "metadata": {},
   "outputs": [
    {
     "name": "stdout",
     "output_type": "stream",
     "text": [
      "True\n",
      "False\n",
      "True\n",
      "False\n"
     ]
    }
   ],
   "source": [
    "#Comparison Operators on float\n",
    "#Take two different float values.\n",
    "#Store them in two different variables.\n",
    "\n",
    "#Do below operations on them:-\n",
    "    #Compare these two numbers with below operator:-\n",
    "        #Greater than, '>'\n",
    "\n",
    "        #Smaller than, '<'\n",
    "\n",
    "        #Greater than or equal to, '>='\n",
    "\n",
    "        #Less than or equal to, '<='\n",
    "\n",
    "#Observe their output(return type should be boolean)\n",
    "\n",
    "num7=7.2\n",
    "num8=3.1\n",
    "\n",
    "print(num7 > num8)\n",
    "print(num7 < num8)\n",
    "print(num7 >= num8)\n",
    "print(num7 <= num8)"
   ]
  },
  {
   "cell_type": "code",
   "execution_count": 4,
   "id": "afd64d23",
   "metadata": {},
   "outputs": [
    {
     "name": "stdout",
     "output_type": "stream",
     "text": [
      "False\n",
      "True\n"
     ]
    }
   ],
   "source": [
    "#Equality Operator\n",
    "#Take two different float values.\n",
    "#Store them in two different variables.\n",
    "\n",
    "#Equuate them using equality operator (==, !=)\n",
    "\n",
    "#Observe the output(return type should be boolean)\n",
    "\n",
    "num9=1.1\n",
    "num10=2.3\n",
    "\n",
    "print(num7 == num8)\n",
    "print(num7 != num8)"
   ]
  },
  {
   "cell_type": "code",
   "execution_count": 6,
   "id": "c6ec397f",
   "metadata": {},
   "outputs": [
    {
     "name": "stdout",
     "output_type": "stream",
     "text": [
      "20.3\n",
      "0.0\n",
      "0.0\n",
      "0.0\n",
      "10.2\n",
      "20.3\n",
      "20.3\n",
      "0.0\n",
      "False\n",
      "True\n"
     ]
    }
   ],
   "source": [
    "#Logical operators\n",
    "#Observe the output of below code\n",
    "#Cross check the output manually\n",
    "\n",
    "print(10.20 and 20.30)       \n",
    "print(0.0 and 20.30)         \n",
    "print(20.30 and 0.0)         \n",
    "print(0.0 and 0.0)           \n",
    "\n",
    "print(10.20 or 20.30)        \n",
    "print(0.0 or 20.30)          \n",
    "print(20.30 or 0.0)          \n",
    "print(0.0 or 0.0)           \n",
    "\n",
    "print(not 10.20)             \n",
    "print(not 0.0)               "
   ]
  },
  {
   "cell_type": "code",
   "execution_count": 8,
   "id": "dadf2a83",
   "metadata": {},
   "outputs": [
    {
     "name": "stdout",
     "output_type": "stream",
     "text": [
      "False\n",
      "True\n"
     ]
    }
   ],
   "source": [
    "#What is the output of expression inside print statement. Cross check before running the program.\n",
    "a = 10.20\n",
    "b = 10.20\n",
    "print(a is b)          \n",
    "print(a is not b)      "
   ]
  },
  {
   "cell_type": "code",
   "execution_count": 10,
   "id": "4bcac81d",
   "metadata": {},
   "outputs": [
    {
     "name": "stdout",
     "output_type": "stream",
     "text": [
      "2500118958544\n",
      "2500118958928\n"
     ]
    }
   ],
   "source": [
    "# Why the Id of float values are different when the same value is assigned to two different variables\n",
    "# ex: a = 10.5 b=10.5. but id will be same if I assign the variable having float i.e. a=c then both a anc c's\n",
    "# Id are same\n",
    "a = 1.20\n",
    "b = 1.20\n",
    "\n",
    "print(id(a))\n",
    "print(id(b))"
   ]
  },
  {
   "cell_type": "code",
   "execution_count": 1,
   "id": "bfcbdf81",
   "metadata": {},
   "outputs": [
    {
     "name": "stdout",
     "output_type": "stream",
     "text": [
      "2973359906512\n",
      "2973359549168\n",
      "2973359906512\n"
     ]
    }
   ],
   "source": [
    "a = 1.20\n",
    "b =1.2\n",
    "c=a\n",
    "\n",
    "print(id(a))\n",
    "print(id(b))\n",
    "print(id(c))"
   ]
  },
  {
   "cell_type": "code",
   "execution_count": null,
   "id": "c4407f10",
   "metadata": {},
   "outputs": [],
   "source": []
  }
 ],
 "metadata": {
  "kernelspec": {
   "display_name": "Python 3",
   "language": "python",
   "name": "python3"
  },
  "language_info": {
   "codemirror_mode": {
    "name": "ipython",
    "version": 3
   },
   "file_extension": ".py",
   "mimetype": "text/x-python",
   "name": "python",
   "nbconvert_exporter": "python",
   "pygments_lexer": "ipython3",
   "version": "3.8.8"
  }
 },
 "nbformat": 4,
 "nbformat_minor": 5
}
