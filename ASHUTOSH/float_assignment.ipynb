{
 "cells": [
  {
   "cell_type": "code",
   "execution_count": null,
   "metadata": {
    "id": "dlrMB-Qy2taV"
   },
   "outputs": [],
   "source": [
    "#Declare a float value and store it in a variable. \n",
    "num_f = 10.20\n",
    "\n",
    "\n",
    "\n",
    "\n",
    "#Check the type and print the id of the same.\n",
    "print(num_f)\n",
    "print(type(num_f))\n",
    "print(id(num_f))\n",
    "\n"
   ]
  },
  {
   "cell_type": "code",
   "execution_count": 1,
   "metadata": {},
   "outputs": [
    {
     "name": "stdout",
     "output_type": "stream",
     "text": [
      "10.2\n",
      "<class 'float'>\n",
      "1595946706704\n"
     ]
    }
   ],
   "source": [
    "#Declare a float value and store it in a variable. \n",
    "num_f = 10.20\n",
    "\n",
    "\n",
    "\n",
    "\n",
    "#Check the type and print the id of the same.\n",
    "print(num_f)\n",
    "print(type(num_f))\n",
    "print(id(num_f))\n",
    "\n"
   ]
  },
  {
   "cell_type": "code",
   "execution_count": null,
   "metadata": {},
   "outputs": [],
   "source": []
  },
  {
   "cell_type": "code",
   "execution_count": null,
   "metadata": {
    "id": "IL4fVDHg2wbI"
   },
   "outputs": [],
   "source": [
    "#Arithmatic Operations on float\n",
    "#Take two different float values.\n",
    "#Store them in two different variables.\n",
    "\n",
    "#Do below operations on them:-\n",
    "    #Find sum of both numbers\n",
    "\n",
    "    #Find differce between them\n",
    "    #Find the product of both numbers.\n",
    "\n",
    "    #Find value after dividing first num with second number\n",
    "\n",
    "    #Find the remainder after dividing first number with second number\n",
    "\n",
    "    #Find the quotient after dividing first number with second number\n",
    "\n",
    "    #Find the result of first num to the power of second number."
   ]
  },
  {
   "cell_type": "code",
   "execution_count": 3,
   "metadata": {},
   "outputs": [
    {
     "name": "stdout",
     "output_type": "stream",
     "text": [
      "22.6\n"
     ]
    }
   ],
   "source": [
    "A=10.35\n",
    "B=12.25\n",
    "print(A+B)"
   ]
  },
  {
   "cell_type": "code",
   "execution_count": 4,
   "metadata": {},
   "outputs": [
    {
     "name": "stdout",
     "output_type": "stream",
     "text": [
      "-1.9000000000000004\n"
     ]
    }
   ],
   "source": [
    "A=10.35\n",
    "B=12.25\n",
    "print(A-B)"
   ]
  },
  {
   "cell_type": "code",
   "execution_count": 5,
   "metadata": {},
   "outputs": [
    {
     "name": "stdout",
     "output_type": "stream",
     "text": [
      "126.7875\n"
     ]
    }
   ],
   "source": [
    "A=10.35\n",
    "B=12.25\n",
    "print(A*B)"
   ]
  },
  {
   "cell_type": "code",
   "execution_count": 6,
   "metadata": {},
   "outputs": [
    {
     "name": "stdout",
     "output_type": "stream",
     "text": [
      "1.1835748792270533\n"
     ]
    }
   ],
   "source": [
    "A=10.35\n",
    "B=12.25\n",
    "print(B/A)"
   ]
  },
  {
   "cell_type": "code",
   "execution_count": 9,
   "metadata": {},
   "outputs": [
    {
     "name": "stdout",
     "output_type": "stream",
     "text": [
      "1.9000000000000004\n"
     ]
    }
   ],
   "source": [
    "A=10.35\n",
    "B=12.25\n",
    "print(B%A)"
   ]
  },
  {
   "cell_type": "code",
   "execution_count": 8,
   "metadata": {},
   "outputs": [
    {
     "name": "stdout",
     "output_type": "stream",
     "text": [
      "1.0\n"
     ]
    }
   ],
   "source": [
    "A=10.35\n",
    "B=12.25\n",
    "print(B//A)"
   ]
  },
  {
   "cell_type": "code",
   "execution_count": 10,
   "metadata": {},
   "outputs": [
    {
     "name": "stdout",
     "output_type": "stream",
     "text": [
      "2710311981352.468\n"
     ]
    }
   ],
   "source": [
    "A=10.35\n",
    "B=12.25\n",
    "print(A**B)"
   ]
  },
  {
   "cell_type": "code",
   "execution_count": null,
   "metadata": {
    "id": "atCFaH6c2492"
   },
   "outputs": [],
   "source": [
    "#Comparison Operators on float\n",
    "#Take two different float values.\n",
    "#Store them in two different variables.\n",
    "\n",
    "#Do below operations on them:-\n",
    "    #Compare these two numbers with below operator:-\n",
    "        #Greater than, '>'\n",
    "\n",
    "        #Smaller than, '<'\n",
    "\n",
    "        #Greater than or equal to, '>='\n",
    "\n",
    "        #Less than or equal to, '<='\n",
    "\n",
    "#Observe their output(return type should be boolean)\n",
    "\n",
    "\n",
    "\n",
    "\n",
    "\n",
    "\n",
    "\n",
    "\n"
   ]
  },
  {
   "cell_type": "code",
   "execution_count": 11,
   "metadata": {},
   "outputs": [
    {
     "name": "stdout",
     "output_type": "stream",
     "text": [
      "True\n"
     ]
    }
   ],
   "source": [
    "\n",
    "    p = 24.23\n",
    "    q=10.25\n",
    "\n",
    "    print(p>q)"
   ]
  },
  {
   "cell_type": "code",
   "execution_count": 12,
   "metadata": {},
   "outputs": [
    {
     "name": "stdout",
     "output_type": "stream",
     "text": [
      "False\n"
     ]
    }
   ],
   "source": [
    "\n",
    "p = 24.23\n",
    "q=10.25\n",
    "\n",
    "print(p<q)"
   ]
  },
  {
   "cell_type": "code",
   "execution_count": 13,
   "metadata": {},
   "outputs": [
    {
     "name": "stdout",
     "output_type": "stream",
     "text": [
      "True\n"
     ]
    }
   ],
   "source": [
    "\n",
    "p = 24.23\n",
    "q=10.25\n",
    "\n",
    "print(p>=q)"
   ]
  },
  {
   "cell_type": "code",
   "execution_count": 14,
   "metadata": {},
   "outputs": [
    {
     "name": "stdout",
     "output_type": "stream",
     "text": [
      "False\n"
     ]
    }
   ],
   "source": [
    "\n",
    "p = 24.23\n",
    "q=10.25\n",
    "\n",
    "print(p<=q)"
   ]
  },
  {
   "cell_type": "code",
   "execution_count": null,
   "metadata": {},
   "outputs": [],
   "source": []
  },
  {
   "cell_type": "code",
   "execution_count": null,
   "metadata": {
    "id": "agi3U3863A5i"
   },
   "outputs": [],
   "source": [
    "#Equality Operator\n",
    "#Take two different float values.\n",
    "#Store them in two different variables.\n",
    "\n",
    "#Equuate them using equality operator (==, !=)\n",
    "\n",
    "#Observe the output(return type should be boolean)\n",
    "\n",
    "\n",
    "\n",
    "\n",
    "\n",
    "\n"
   ]
  },
  {
   "cell_type": "code",
   "execution_count": 15,
   "metadata": {},
   "outputs": [
    {
     "name": "stdout",
     "output_type": "stream",
     "text": [
      "False\n"
     ]
    }
   ],
   "source": [
    "\n",
    "p = 24.23\n",
    "q=10.25\n",
    "\n",
    "print(p==q)"
   ]
  },
  {
   "cell_type": "code",
   "execution_count": 16,
   "metadata": {},
   "outputs": [
    {
     "name": "stdout",
     "output_type": "stream",
     "text": [
      "True\n"
     ]
    }
   ],
   "source": [
    "\n",
    "p = 24.23\n",
    "q=10.25\n",
    "\n",
    "print(p!=q)"
   ]
  },
  {
   "cell_type": "code",
   "execution_count": null,
   "metadata": {
    "id": "3HLlgaEt3EnJ"
   },
   "outputs": [],
   "source": [
    "#Logical operators\n",
    "#Observe the output of below code\n",
    "#Cross check the output manually\n",
    "\n",
    "print(10.20 and 20.30)       #both are true and second value taken >Output is 20.3\n",
    "print(0.0 and 20.30)         #First is false so first value taken->Output is 0.0\n",
    "print(20.30 and 0.0)         #Goes to till second and second value is false so second is taken>Output is 0.0\n",
    "print(0.0 and 0.0)           #First is false so first value is taken->Output is 0.0\n",
    "\n",
    "print(10.20 or 20.30)        #First is True so first value is taken>Output is 10.2\n",
    "print(0.0 or 20.30)          #Goes to till second and second is true second value is taken->Output is 20.3\n",
    "print(20.30 or 0.0)          #First is True so first value is taken->Output is 20.3\n",
    "print(0.0 or 0.0)            #Goes to till second and secod is also false and second value is taken>Output is 0.0\n",
    "\n",
    "print(not 10.20)             #-Not of true is false->Output is False\n",
    "print(not 0.0)               #Not of false is True>Output is True"
   ]
  },
  {
   "cell_type": "code",
   "execution_count": 23,
   "metadata": {},
   "outputs": [
    {
     "name": "stdout",
     "output_type": "stream",
     "text": [
      "20.3\n"
     ]
    }
   ],
   "source": [
    "print(10.20 and 20.30)"
   ]
  },
  {
   "cell_type": "code",
   "execution_count": 24,
   "metadata": {},
   "outputs": [
    {
     "name": "stdout",
     "output_type": "stream",
     "text": [
      "0.0\n"
     ]
    }
   ],
   "source": [
    "print(0.0 and 20.30) "
   ]
  },
  {
   "cell_type": "code",
   "execution_count": 25,
   "metadata": {},
   "outputs": [
    {
     "name": "stdout",
     "output_type": "stream",
     "text": [
      "0.0\n"
     ]
    }
   ],
   "source": [
    "print(20.30 and 0.0)"
   ]
  },
  {
   "cell_type": "code",
   "execution_count": 26,
   "metadata": {},
   "outputs": [
    {
     "name": "stdout",
     "output_type": "stream",
     "text": [
      "0.0\n"
     ]
    }
   ],
   "source": [
    "print(0.0 and 0.0)"
   ]
  },
  {
   "cell_type": "code",
   "execution_count": 27,
   "metadata": {},
   "outputs": [
    {
     "name": "stdout",
     "output_type": "stream",
     "text": [
      "10.2\n",
      "20.3\n",
      "20.3\n",
      "0.0\n",
      "False\n",
      "True\n"
     ]
    }
   ],
   "source": [
    "\n",
    "print(10.20 or 20.30)       \n",
    "print(0.0 or 20.30)          \n",
    "print(20.30 or 0.0)          \n",
    "print(0.0 or 0.0)          \n",
    "\n",
    "print(not 10.20)            \n",
    "print(not 0.0)               "
   ]
  },
  {
   "cell_type": "code",
   "execution_count": null,
   "metadata": {},
   "outputs": [],
   "source": []
  },
  {
   "cell_type": "code",
   "execution_count": null,
   "metadata": {},
   "outputs": [],
   "source": []
  },
  {
   "cell_type": "code",
   "execution_count": null,
   "metadata": {},
   "outputs": [],
   "source": []
  },
  {
   "cell_type": "code",
   "execution_count": null,
   "metadata": {},
   "outputs": [],
   "source": []
  },
  {
   "cell_type": "code",
   "execution_count": null,
   "metadata": {
    "id": "7YdyRNtk3UZd"
   },
   "outputs": [],
   "source": [
    "#What is the output of expression inside print statement. Cross check before running the program.\n",
    "a = 10.20\n",
    "b - 10.20\n",
    "print(a is b)          #True or False? True 10.20<256\n",
    "print(a is not b)      #True or False? False\n",
    "\n",
    "\n",
    "# Why the Id of float values are different when the same value is assigned to two different variables\n",
    "# ex: a = 10.5 b=10.5. but id will be same if I assign the variable having float i.e. a=c then both a anc c's\n",
    "# Id are same\n"
   ]
  },
  {
   "cell_type": "code",
   "execution_count": null,
   "metadata": {
    "id": "iTvnIMLd3VLW"
   },
   "outputs": [],
   "source": [
    "#Bitwise operation is not applicable between instances of float.\n",
    "## Why the Id of float values are different when the same value is assigned to two different variables\n",
    "## ex: a = 10.5 b=10.5. but id will be same if I assign the variable having float i.e. a=c then both a anc c's\n",
    "## Id are same\n",
    "#Object reusability concept is not applicable on float values."
   ]
  },
  {
   "cell_type": "code",
   "execution_count": null,
   "metadata": {
    "id": "29AVJHpx3YUo"
   },
   "outputs": [],
   "source": [
    "#Membership operation\n",
    "#in, not in are two membership operators and it returns boolean value\n",
    "\n",
    "print('2.7' in 'Python2.7.8')              #True\n",
    "print(10.20 in [10,10.20,10+20j,'Python']) #True\n",
    "print(10.20 in (10,10.20,10+20j,'Python')) # True\n",
    "print(20.30 in {1,20.30,30+40j})           # True\n",
    "print(2.3 in {1:100, 2.3:200, 30+40j:300}) # True\n",
    "print(10 in range(20))                     # True"
   ]
  },
  {
   "cell_type": "code",
   "execution_count": 17,
   "metadata": {},
   "outputs": [
    {
     "name": "stdout",
     "output_type": "stream",
     "text": [
      "True\n"
     ]
    }
   ],
   "source": [
    "print('2.7' in 'Python2.7.8')"
   ]
  },
  {
   "cell_type": "code",
   "execution_count": 18,
   "metadata": {},
   "outputs": [
    {
     "name": "stdout",
     "output_type": "stream",
     "text": [
      "True\n"
     ]
    }
   ],
   "source": [
    "print(10.20 in [10,10.20,10+20j,'Python'])"
   ]
  },
  {
   "cell_type": "code",
   "execution_count": 19,
   "metadata": {},
   "outputs": [
    {
     "name": "stdout",
     "output_type": "stream",
     "text": [
      "True\n"
     ]
    }
   ],
   "source": [
    "print(10.20 in (10,10.20,10+20j,'Python'))"
   ]
  },
  {
   "cell_type": "code",
   "execution_count": 20,
   "metadata": {},
   "outputs": [
    {
     "name": "stdout",
     "output_type": "stream",
     "text": [
      "True\n"
     ]
    }
   ],
   "source": [
    "print(20.30 in {1,20.30,30+40j})"
   ]
  },
  {
   "cell_type": "code",
   "execution_count": 21,
   "metadata": {},
   "outputs": [
    {
     "name": "stdout",
     "output_type": "stream",
     "text": [
      "True\n"
     ]
    }
   ],
   "source": [
    "print(2.3 in {1:100, 2.3:200, 30+40j:300})"
   ]
  },
  {
   "cell_type": "code",
   "execution_count": 22,
   "metadata": {},
   "outputs": [
    {
     "name": "stdout",
     "output_type": "stream",
     "text": [
      "True\n"
     ]
    }
   ],
   "source": [
    "print(10 in range(20))      "
   ]
  },
  {
   "cell_type": "code",
   "execution_count": null,
   "metadata": {},
   "outputs": [],
   "source": []
  }
 ],
 "metadata": {
  "colab": {
   "name": "float_assignment.ipynb",
   "provenance": []
  },
  "kernelspec": {
   "display_name": "Python 3",
   "language": "python",
   "name": "python3"
  },
  "language_info": {
   "codemirror_mode": {
    "name": "ipython",
    "version": 3
   },
   "file_extension": ".py",
   "mimetype": "text/x-python",
   "name": "python",
   "nbconvert_exporter": "python",
   "pygments_lexer": "ipython3",
   "version": "3.8.8"
  }
 },
 "nbformat": 4,
 "nbformat_minor": 1
}
