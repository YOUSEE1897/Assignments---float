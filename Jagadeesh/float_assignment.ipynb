{
 "cells": [
  {
   "cell_type": "code",
   "execution_count": 33,
   "metadata": {
    "id": "dlrMB-Qy2taV"
   },
   "outputs": [
    {
     "name": "stdout",
     "output_type": "stream",
     "text": [
      "10.2\n",
      "<class 'float'>\n",
      "2527009452976\n"
     ]
    }
   ],
   "source": [
    "#Declare a float value and store it in a variable. \n",
    "num_f = 10.20\n",
    "\n",
    "\n",
    "\n",
    "\n",
    "#Check the type and print the id of the same.\n",
    "print(num_f)\n",
    "print(type(num_f))\n",
    "print(id(num_f))\n",
    "\n"
   ]
  },
  {
   "cell_type": "code",
   "execution_count": 10,
   "metadata": {
    "id": "IL4fVDHg2wbI"
   },
   "outputs": [
    {
     "name": "stdout",
     "output_type": "stream",
     "text": [
      "c,d,e,f,g,h 15.3 4.8999999999999995 1.942307692307692 1.0 4.8999999999999995 166905.69044495266\n",
      "[15.3, 4.8999999999999995, 1.942307692307692, 1.0, 4.8999999999999995, 166905.69044495266]\n",
      "[15.3, 4.9, 1.94, 1.0, 4.9, 166905.69]\n"
     ]
    }
   ],
   "source": [
    "#Arithmatic Operations on float\n",
    "#Take two different float values.\n",
    "#Store them in two different variables.\n",
    "a=10.1\n",
    "b=5.2\n",
    "\n",
    "#Do below operations on them:-\n",
    "    #Find sum of both numbers\n",
    "c=a+b\n",
    "\n",
    "    #Find differce between them\n",
    "    #Find the product of both numbers.\n",
    "d=a-b\n",
    "\n",
    "    #Find value after dividing first num with second number\n",
    "e=a/b\n",
    "    #Find the remainder after dividing first number with second number\n",
    "f=a//b\n",
    "    #Find the quotient after dividing first number with second number\n",
    "g=a%b\n",
    "    #Find the result of first num to the power of second number.\n",
    "h=a**b\n",
    "print(\"c,d,e,f,g,h\",c,d,e,f,g,h)\n",
    "#for my easiness to reduce the floating number\n",
    "li=[c,d,e,f,g,h]\n",
    "lis=[]\n",
    "print(li)\n",
    "for i in li:\n",
    "    i=round(i,2)\n",
    "    lis.append(i)\n",
    "print(lis)\n"
   ]
  },
  {
   "cell_type": "code",
   "execution_count": 32,
   "metadata": {
    "id": "atCFaH6c2492"
   },
   "outputs": [
    {
     "name": "stdout",
     "output_type": "stream",
     "text": [
      "False\n",
      "True\n",
      "False\n",
      "True\n"
     ]
    }
   ],
   "source": [
    "#Comparison Operators on float\n",
    "#Take two different float values.\n",
    "#Store them in two different variables.\n",
    "\n",
    "#Do below operations on them:-\n",
    "    #Compare these two numbers with below operator:-\n",
    "        #Greater than, '>'\n",
    "\n",
    "        #Smaller than, '<'\n",
    "\n",
    "        #Greater than or equal to, '>='\n",
    "\n",
    "        #Less than or equal to, '<='\n",
    "\n",
    "#Observe their output(return type should be boolean)\n",
    "a=5.10\n",
    "b=10.2\n",
    "print(a>b)\n",
    "print(a<b)\n",
    "print(a>=b)\n",
    "print(a<=b)\n",
    "\n",
    "\n",
    "\n",
    "\n",
    "\n",
    "\n",
    "\n"
   ]
  },
  {
   "cell_type": "code",
   "execution_count": 12,
   "metadata": {
    "id": "agi3U3863A5i"
   },
   "outputs": [
    {
     "name": "stdout",
     "output_type": "stream",
     "text": [
      "False\n",
      "True\n"
     ]
    }
   ],
   "source": [
    "#Equality Operator\n",
    "#Take two different float values.\n",
    "#Store them in two different variables.\n",
    "a=4.3\n",
    "b=8.3\n",
    "\n",
    "#Equuate them using equality operator (==, !=)\n",
    "print(a==b)\n",
    "print(a!=b)\n",
    "#Observe the output(return type should be boolean)\n",
    "\n",
    "\n",
    "\n",
    "\n",
    "\n",
    "\n"
   ]
  },
  {
   "cell_type": "code",
   "execution_count": 13,
   "metadata": {
    "id": "3HLlgaEt3EnJ"
   },
   "outputs": [
    {
     "name": "stdout",
     "output_type": "stream",
     "text": [
      "20.3\n",
      "0.0\n",
      "0.0\n",
      "0.0\n",
      "10.2\n",
      "20.3\n",
      "20.3\n",
      "0.0\n",
      "False\n",
      "True\n"
     ]
    }
   ],
   "source": [
    "#Logical operators\n",
    "#Observe the output of below code\n",
    "#Cross check the output manually\n",
    "\n",
    "print(10.20 and 20.30)       #both are true and second value taken >Output is 20.3\n",
    "print(0.0 and 20.30)         #First is false so first value taken->Output is 0.0\n",
    "print(20.30 and 0.0)         #Goes to till second and second value is false so second is taken>Output is 0.0\n",
    "print(0.0 and 0.0)           #First is false so first value is taken->Output is 0.0\n",
    "\n",
    "print(10.20 or 20.30)        #First is True so first value is taken>Output is 10.2\n",
    "print(0.0 or 20.30)          #Goes to till second and second is true second value is taken->Output is 20.3\n",
    "print(20.30 or 0.0)          #First is True so first value is taken->Output is 20.3\n",
    "print(0.0 or 0.0)            #Goes to till second and secod is also false and second value is taken>Output is 0.0\n",
    "\n",
    "print(not 10.20)             #-Not of true is false->Output is False\n",
    "print(not 0.0)               #Not of false is True>Output is True"
   ]
  },
  {
   "cell_type": "code",
   "execution_count": 29,
   "metadata": {
    "id": "7YdyRNtk3UZd"
   },
   "outputs": [
    {
     "name": "stdout",
     "output_type": "stream",
     "text": [
      "False\n",
      "True\n",
      "140729058600784 140729058600784\n"
     ]
    }
   ],
   "source": [
    "#What is the output of expression inside print statement. Cross check before running the program.\n",
    "a = 10.20\n",
    "b = 10.20\n",
    "print(a is b)          #True or False? True 10.20<256\n",
    "print(a is not b)      #True or False? False\n",
    "\n",
    "\n",
    "\n",
    "\n",
    "# Why the Id of float values are different when the same value is assigned to two different variables\n",
    "# ex: a = 10.5 b=10.5. but id will be same if I assign the variable having float i.e. a=c then both a anc c's\n",
    "# Id are same\n",
    "\"\"\"\"Here the problem is because of the way float numbers is stored in memory, if you run the id of float it changes, if you run the same int number\n",
    "it won't change.\"\"\"\n",
    "\"\"\"Object reusability concept is not applicable on float values. as stated below\"\"\"\n"
   ]
  },
  {
   "cell_type": "code",
   "execution_count": 30,
   "metadata": {
    "id": "iTvnIMLd3VLW"
   },
   "outputs": [],
   "source": [
    "#Bitwise operation is not applicable between instances of float.\n",
    "## Why the Id of float values are different when the same value is assigned to two different variables\n",
    "## ex: a = 10.5 b=10.5. but id will be same if I assign the variable having float i.e. a=c then both a anc c's\n",
    "## Id are same\n",
    "#Object reusability concept is not applicable on float values."
   ]
  },
  {
   "cell_type": "code",
   "execution_count": 31,
   "metadata": {
    "id": "29AVJHpx3YUo"
   },
   "outputs": [
    {
     "name": "stdout",
     "output_type": "stream",
     "text": [
      "True\n",
      "True\n",
      "True\n",
      "True\n",
      "True\n",
      "True\n"
     ]
    }
   ],
   "source": [
    "#Membership operation\n",
    "#in, not in are two membership operators and it returns boolean value\n",
    "\n",
    "print('2.7' in 'Python2.7.8')              #True\n",
    "print(10.20 in [10,10.20,10+20j,'Python']) #True\n",
    "print(10.20 in (10,10.20,10+20j,'Python')) # True\n",
    "print(20.30 in {1,20.30,30+40j})           # True\n",
    "print(2.3 in {1:100, 2.3:200, 30+40j:300}) # True\n",
    "print(10 in range(20))                     # True"
   ]
  },
  {
   "cell_type": "code",
   "execution_count": null,
   "metadata": {},
   "outputs": [],
   "source": []
  }
 ],
 "metadata": {
  "colab": {
   "name": "float_assignment.ipynb",
   "provenance": []
  },
  "kernelspec": {
   "display_name": "Python 3",
   "language": "python",
   "name": "python3"
  },
  "language_info": {
   "codemirror_mode": {
    "name": "ipython",
    "version": 3
   },
   "file_extension": ".py",
   "mimetype": "text/x-python",
   "name": "python",
   "nbconvert_exporter": "python",
   "pygments_lexer": "ipython3",
   "version": "3.8.8"
  }
 },
 "nbformat": 4,
 "nbformat_minor": 1
}
