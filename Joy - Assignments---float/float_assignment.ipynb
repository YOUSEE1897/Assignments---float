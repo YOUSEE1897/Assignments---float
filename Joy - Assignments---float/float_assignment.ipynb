{
 "cells": [
  {
   "cell_type": "code",
   "execution_count": 2,
   "metadata": {
    "id": "dlrMB-Qy2taV"
   },
   "outputs": [
    {
     "name": "stdout",
     "output_type": "stream",
     "text": [
      "Float value is  10.2\n",
      "Type is  <class 'float'>\n",
      "Id is  1666390192688\n"
     ]
    }
   ],
   "source": [
    "#Declare a float value and store it in a variable. \n",
    "num_f = 10.20\n",
    "\n",
    "\n",
    "\n",
    "\n",
    "#Check the type and print the id of the same.\n",
    "print(\"Float value is \",num_f)\n",
    "print(\"Type is \",type(num_f))\n",
    "print(\"Id is \",id(num_f))\n",
    "\n"
   ]
  },
  {
   "cell_type": "code",
   "execution_count": 5,
   "metadata": {
    "id": "IL4fVDHg2wbI"
   },
   "outputs": [
    {
     "name": "stdout",
     "output_type": "stream",
     "text": [
      "Sum is  30.7\n",
      "Difference is  -9.7\n",
      "Product is  212.1\n",
      "Division is  0.5198019801980198\n",
      "Remainder is  10.5\n",
      "Quotient is  0.5198019801980198\n",
      "Exponential form is  4.246428746805233e+20\n"
     ]
    }
   ],
   "source": [
    "#Arithmatic Operations on float\n",
    "#Take two different float values.\n",
    "#Store them in two different variables.\n",
    "a1= 10.5; a2=20.2\n",
    "\n",
    "#Do below operations on them:-\n",
    "    #Find sum of both numbers\n",
    "print(\"Sum is \", a1+a2)\n",
    "\n",
    "    #Find differce between them\n",
    "    \n",
    "print(\"Difference is \", a1-a2)\n",
    "    #Find the product of both numbers.\n",
    "\n",
    "print(\"Product is \", a1*a2)\n",
    "\n",
    "    #Find value after dividing first num with second number\n",
    "print(\"Division is \", a1/a2)\n",
    "\n",
    "    #Find the remainder after dividing first number with second number\n",
    "print(\"Remainder is \", a1%a2)\n",
    "\n",
    "    #Find the quotient after dividing first number with second number\n",
    "print(\"Quotient is \", a1/a2)\n",
    "\n",
    "    #Find the result of first num to the power of second number.\n",
    "print(\"Exponential form is \", a1**a2)"
   ]
  },
  {
   "cell_type": "code",
   "execution_count": 6,
   "metadata": {
    "id": "atCFaH6c2492"
   },
   "outputs": [
    {
     "name": "stdout",
     "output_type": "stream",
     "text": [
      "Is 10.5 greater than 20.2 : False\n",
      "Is 10.5 smaller than 20.2 : True\n",
      "Is 10.5 greater than and equal to 20.2 : False\n",
      "Is 10.5 smaller than and equal to 20.2 : True\n"
     ]
    }
   ],
   "source": [
    "#Comparison Operators on float\n",
    "#Take two different float values.\n",
    "#Store them in two different variables.\n",
    "\n",
    "#Do below operations on them:-\n",
    "    #Compare these two numbers with below operator:-\n",
    "        #Greater than, '>'\n",
    "print(\"Is\",a1,\"greater than\",a2,\":\", a1>a2)\n",
    "\n",
    "        #Smaller than, '<'\n",
    "print(\"Is\",a1,\"smaller than\",a2,\":\", a1<a2)\n",
    "\n",
    "        #Greater than or equal to, '>='\n",
    "print(\"Is\",a1,\"greater than and equal to\",a2,\":\", a1>=a2)\n",
    "\n",
    "        #Less than or equal to, '<='\n",
    "print(\"Is\",a1,\"smaller than and equal to\",a2,\":\", a1<=a2)\n",
    "\n",
    "#Observe their output(return type should be boolean)"
   ]
  },
  {
   "cell_type": "code",
   "execution_count": 7,
   "metadata": {
    "id": "agi3U3863A5i"
   },
   "outputs": [
    {
     "name": "stdout",
     "output_type": "stream",
     "text": [
      "is 10.5 == 20.2 : False\n",
      "is 10.5 != 20.2 : True\n"
     ]
    }
   ],
   "source": [
    "#Equality Operator\n",
    "#Take two different float values.\n",
    "#Store them in two different variables.\n",
    "\n",
    "#Equuate them using equality operator (==, !=)\n",
    "print(\"is\",a1,\"==\",a2,\":\",a1==a2)\n",
    "\n",
    "print(\"is\",a1,\"!=\",a2,\":\",a1!=a2)\n",
    "\n",
    "#Observe the output(return type should be boolean)\n",
    "\n",
    "\n",
    "\n",
    "\n",
    "\n",
    "\n"
   ]
  },
  {
   "cell_type": "code",
   "execution_count": 8,
   "metadata": {
    "id": "3HLlgaEt3EnJ"
   },
   "outputs": [
    {
     "name": "stdout",
     "output_type": "stream",
     "text": [
      "20.3\n",
      "0.0\n",
      "0.0\n",
      "0.0\n",
      "10.2\n",
      "20.3\n",
      "20.3\n",
      "0.0\n",
      "False\n",
      "True\n"
     ]
    }
   ],
   "source": [
    "#Logical operators\n",
    "#Observe the output of below code\n",
    "#Cross check the output manually\n",
    "\n",
    "print(10.20 and 20.30)       #both are true and second value taken >Output is 20.3\n",
    "print(0.0 and 20.30)         #First is false so first value taken->Output is 0.0\n",
    "print(20.30 and 0.0)         #Goes to till second and second value is false so second is taken>Output is 0.0\n",
    "print(0.0 and 0.0)           #First is false so first value is taken->Output is 0.0\n",
    "\n",
    "print(10.20 or 20.30)        #First is True so first value is taken>Output is 10.2\n",
    "print(0.0 or 20.30)          #Goes to till second and second is true second value is taken->Output is 20.3\n",
    "print(20.30 or 0.0)          #First is True so first value is taken->Output is 20.3\n",
    "print(0.0 or 0.0)            #Goes to till second and secod is also false and second value is taken>Output is 0.0\n",
    "\n",
    "print(not 10.20)             #-Not of true is false->Output is False\n",
    "print(not 0.0)               #Not of false is True>Output is True"
   ]
  },
  {
   "cell_type": "code",
   "execution_count": 9,
   "metadata": {
    "id": "7YdyRNtk3UZd"
   },
   "outputs": [
    {
     "name": "stdout",
     "output_type": "stream",
     "text": [
      "False\n",
      "True\n"
     ]
    }
   ],
   "source": [
    "#What is the output of expression inside print statement. Cross check before running the program.\n",
    "a = 10.20\n",
    "b = 10.20\n",
    "print(a is b)          #True or False? True 10.20<256\n",
    "print(a is not b)      #True or False? False\n",
    "\n",
    "\n",
    "# Why the Id of float values are different when the same value is assigned to two different variables\n",
    "# ex: a = 10.5 b=10.5. but id will be same if I assign the variable having float i.e. a=c then both a anc c's\n",
    "# Id are same\n"
   ]
  },
  {
   "cell_type": "code",
   "execution_count": 12,
   "metadata": {
    "id": "iTvnIMLd3VLW"
   },
   "outputs": [
    {
     "name": "stdout",
     "output_type": "stream",
     "text": [
      "you create a float value, ask for its id(), and then Python deletes the value again because nothing refers to it. When you create another float value, Python can reuse the same memory position and thus id(a) is likely to return the same value for id(c)\n"
     ]
    }
   ],
   "source": [
    "#Bitwise operation is not applicable between instances of float.\n",
    "## Why the Id of float values are different when the same value is assigned to two different variables\n",
    "## ex: a = 10.5 b=10.5. but id will be same if I assign the variable having float i.e. a=c then both a anc c's\n",
    "## Id are same\n",
    "print(\"you create a float value, ask for its id(), and then Python deletes the value again because nothing refers to it. When you create another float value, Python can reuse the same memory position and thus id(a) is likely to return the same value for id(c)\")\n",
    "#Object reusability concept is not applicable on float values."
   ]
  },
  {
   "cell_type": "code",
   "execution_count": 11,
   "metadata": {
    "id": "29AVJHpx3YUo"
   },
   "outputs": [
    {
     "name": "stdout",
     "output_type": "stream",
     "text": [
      "True\n",
      "True\n",
      "True\n",
      "True\n",
      "True\n",
      "True\n",
      "False\n",
      "False\n",
      "False\n",
      "False\n",
      "False\n",
      "False\n"
     ]
    }
   ],
   "source": [
    "#Membership operation\n",
    "#in, not in are two membership operators and it returns boolean value\n",
    "\n",
    "print('2.7' in 'Python2.7.8')              #True\n",
    "print(10.20 in [10,10.20,10+20j,'Python']) #True\n",
    "print(10.20 in (10,10.20,10+20j,'Python')) # True\n",
    "print(20.30 in {1,20.30,30+40j})           # True\n",
    "print(2.3 in {1:100, 2.3:200, 30+40j:300}) # True\n",
    "print(10 in range(20))                     # True\n",
    "print('2.7'not in 'Python2.7.8')              #True\n",
    "print(10.20 not in [10,10.20,10+20j,'Python']) #True\n",
    "print(10.20 not in (10,10.20,10+20j,'Python')) # True\n",
    "print(20.30 not in {1,20.30,30+40j})           # True\n",
    "print(2.3 not in {1:100, 2.3:200, 30+40j:300}) # True\n",
    "print(10 not in range(20))                     # True"
   ]
  },
  {
   "cell_type": "code",
   "execution_count": null,
   "metadata": {},
   "outputs": [],
   "source": []
  }
 ],
 "metadata": {
  "colab": {
   "name": "float_assignment.ipynb",
   "provenance": []
  },
  "kernelspec": {
   "display_name": "Python 3",
   "language": "python",
   "name": "python3"
  },
  "language_info": {
   "codemirror_mode": {
    "name": "ipython",
    "version": 3
   },
   "file_extension": ".py",
   "mimetype": "text/x-python",
   "name": "python",
   "nbconvert_exporter": "python",
   "pygments_lexer": "ipython3",
   "version": "3.9.5"
  }
 },
 "nbformat": 4,
 "nbformat_minor": 1
}
