{
 "cells": [
  {
   "cell_type": "code",
   "execution_count": 1,
   "id": "31762a59",
   "metadata": {},
   "outputs": [
    {
     "name": "stdout",
     "output_type": "stream",
     "text": [
      "10.2\n",
      "<class 'float'>\n",
      "2418241383248\n"
     ]
    }
   ],
   "source": [
    "#Declare a float value and store it in a variable. \n",
    "\n",
    "num_f = 10.20\n",
    "print(num_f)\n",
    "print(type(num_f))\n",
    "print(id(num_f))\n"
   ]
  },
  {
   "cell_type": "code",
   "execution_count": 2,
   "id": "35e8c0da",
   "metadata": {},
   "outputs": [
    {
     "name": "stdout",
     "output_type": "stream",
     "text": [
      "14.135\n",
      "-4.775\n",
      "44.249399999999994\n",
      "0.4949762030671602\n",
      "4.68\n",
      "0.0\n",
      "2173574.5522697954\n"
     ]
    }
   ],
   "source": [
    "#Arithmatic Operations on float\n",
    "\n",
    "a = 4.68\n",
    "b = 9.455\n",
    "\n",
    "print(a + b)\n",
    "print(a - b)\n",
    "print(a * b)\n",
    "print(a / b)\n",
    "print(a % b)\n",
    "print(a // b)\n",
    "print(a ** b)"
   ]
  },
  {
   "cell_type": "code",
   "execution_count": 4,
   "id": "a10269fd",
   "metadata": {},
   "outputs": [
    {
     "name": "stdout",
     "output_type": "stream",
     "text": [
      "True\n",
      "False\n",
      "True\n",
      "False\n"
     ]
    }
   ],
   "source": [
    "#Comparison Operators on float\n",
    "\n",
    "c = 4.535\n",
    "d = 0.325\n",
    "\n",
    "print(c > d)\n",
    "print(c < d)\n",
    "print(c >= d)\n",
    "print(c <= d)"
   ]
  },
  {
   "cell_type": "code",
   "execution_count": 5,
   "id": "e38f1bba",
   "metadata": {},
   "outputs": [
    {
     "name": "stdout",
     "output_type": "stream",
     "text": [
      "False\n",
      "True\n"
     ]
    }
   ],
   "source": [
    "#Equality Operator\n",
    "\n",
    "print(c == d)\n",
    "print(c != d)"
   ]
  },
  {
   "cell_type": "code",
   "execution_count": 8,
   "id": "3fa84097",
   "metadata": {},
   "outputs": [
    {
     "name": "stdout",
     "output_type": "stream",
     "text": [
      "False\n",
      "True\n",
      "True\n"
     ]
    }
   ],
   "source": [
    "a = 10.20\n",
    "b = 10.20\n",
    "a = c\n",
    "print(a is b)          \n",
    "print(a is not b)\n",
    "print(a is c)\n",
    "\n",
    "# it is maybe because different memory spaces are allocated for the variables when declared for floats. But when these\n",
    "# variables are assigned to different variables they share the same memory location."
   ]
  },
  {
   "cell_type": "code",
   "execution_count": null,
   "id": "7fc79392",
   "metadata": {},
   "outputs": [],
   "source": []
  },
  {
   "cell_type": "code",
   "execution_count": null,
   "id": "c1b2c918",
   "metadata": {},
   "outputs": [],
   "source": []
  },
  {
   "cell_type": "code",
   "execution_count": null,
   "id": "990051d7",
   "metadata": {},
   "outputs": [],
   "source": []
  },
  {
   "cell_type": "code",
   "execution_count": null,
   "id": "aebffb4d",
   "metadata": {},
   "outputs": [],
   "source": []
  },
  {
   "cell_type": "code",
   "execution_count": null,
   "id": "8e2a1e8e",
   "metadata": {},
   "outputs": [],
   "source": []
  }
 ],
 "metadata": {
  "kernelspec": {
   "display_name": "Python 3",
   "language": "python",
   "name": "python3"
  },
  "language_info": {
   "codemirror_mode": {
    "name": "ipython",
    "version": 3
   },
   "file_extension": ".py",
   "mimetype": "text/x-python",
   "name": "python",
   "nbconvert_exporter": "python",
   "pygments_lexer": "ipython3",
   "version": "3.8.8"
  }
 },
 "nbformat": 4,
 "nbformat_minor": 5
}
